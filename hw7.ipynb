{
 "cells": [
  {
   "cell_type": "markdown",
   "metadata": {},
   "source": [
    "# INFO 2950 Homework 7"
   ]
  },
  {
   "cell_type": "code",
   "execution_count": null,
   "metadata": {},
   "outputs": [],
   "source": []
  },
  {
   "cell_type": "markdown",
   "metadata": {},
   "source": [
    "---\n",
    "\n",
    "## Discussion Question\n",
    "\n",
    "The idea of using personal data and simulations to predict (and potentially manipulate) voter behaviour did not start with [Cambridge Analytica](https://en.wikipedia.org/wiki/Cambridge_Analytica); it has been going on for longer than you might think!\n",
    "\n",
    "In 1960, John F. Kennedy's campaign employed a company called \"Simulmatics\" to consult on Kennedy's platform points using data prediction models, including his position on civil rights. This action was part of a larger endeavour called \"Project Macroscope\" led by Ed Greenfield, an advertiser.\n",
    "\n",
    "_\"With Project Macroscope, Greenfield proposed to build an 'information bank' out of election returns and public opinion surveys. They'd sort voters into voter types, down to a microscopic level, classifying for instance, 'working-class Negroes in northern cities.' For each voter type, information from the election returns and the public opinion surveys would be sorted by issue. \\[...\\] The machine, crammed with microscopic data about voters and issues, would act as a 'macroscope\": you could ask it any question about the kind of move a candidate might make, and it would be able to tell you how voters, down to the tiniest segment of the electorate, would respond._\n",
    "\n",
    "\\[...\\]\n",
    "\n",
    "_After settling into Simulmatics’ new offices, Greenfield sent a proposal for Project Macroscope to Newton Minow, a partner at Stevenson’s Chicago law firm who had served as Stevenson’s counsel. Minow forwarded the proposal to Arthur Schlesinger, Jr., in Cambridge, where he lived two doors down from Ithiel de Sola Pool. 'Without prejudicing your judgment, my own opinion is that such a thing (a) cannot work, (b) is immoral, (c) should be declared illegal,' Minow wrote. 'Please advise.' Schlesinger looked over the proposal. 'I have pretty much your feelings about Project Macroscope,' he wrote back. 'I shudder at the implication for public leadership of the notion . . . that a man shouldn’t say something until it is cleared with the machine.' But he wasn’t going to thwart it. 'I do believe in science and don’t like to be a party to choking off new ideas.' Project Macroscope went ahead. It’s going on still.\"_\n",
    "\n",
    "(excerpt from [*If Then* by Jill Lepore](https://www.goodreads.com/book/show/50489327-if-then))\n",
    "\n",
    "**Comment on the above passage. Do you agree with Minnow and Schlesinger's criticism about Project Macroscope? On the other hand, if the goal of democracy is to faithfully represent the views of the people via their elected officials, is there a place for voter data and simulation in modern politics? If so, how might a data scientist conduct such work ethically and responsibly?**\n",
    "\n",
    "## **Note: No response to the discussion question is required on the homework.**"
   ]
  },
  {
   "cell_type": "markdown",
   "metadata": {},
   "source": [
    "---\n",
    "## Pre-section"
   ]
  },
  {
   "cell_type": "code",
   "execution_count": 1,
   "metadata": {},
   "outputs": [],
   "source": [
    "## Load libraries\n",
    "import pandas as pd\n",
    "import matplotlib.pyplot as plt\n",
    "import seaborn as sns\n",
    "import numpy as np\n",
    "from sklearn.linear_model import LinearRegression\n",
    "from sklearn.linear_model import LogisticRegression\n",
    "from sklearn.model_selection import train_test_split"
   ]
  },
  {
   "cell_type": "markdown",
   "metadata": {},
   "source": [
    "### Regression with a Categorical Input\n",
    "\n",
    "Linear regression can only be performed with numeric inputs, but in some cases, variables of interest are categorical (discrete). On hw6, we saw that one can directly swap out the values in a categorical column with numbers when there is a natural ordering of the categories; we encoded the `cut` column using the dictionary\n",
    "```\n",
    "cut_map = {\"Fair\": 1, \"Good\": 2, \"Very Good\": 3, \"Premium\": 4, \"Ideal\": 5}\n",
    "```\n",
    "swapping out the string categories with the integers from 1 to 5, where `1` represented the worst cut category and `5` represented the best.\n",
    "\n",
    "If the categories are not ordered, or we want to look at the effect of being in a specific category vs. not, we can use *indicator variables*. For example, if I wanted to understand how much more expensive an `Ideal` cut diamond was vs all other diamonds, I might create an indicator variable called `is_ideal`, where an entry of 1 indicates that the diamond had an `Ideal` cut, and an entry of 0 means that it had any other cut besides `Ideal` (i.e. \"not `Ideal`\").\n",
    "\n",
    "We learned on hw6 that `pandas` will easily take a categorical column and create a set of indicator columns from it that reflect whether or not an observation is in a specified category using the `pandas.get_dummies()` function.\n",
    "\n",
    "It's not immediately clear how to interpret a linear regression with indicator input variables. Let's try to understand this idea now by exploring a dataset generated based on wine reviews from [WineEnthusiast magazine](https://www.kaggle.com/zynicide/wine-reviews/version/4)."
   ]
  },
  {
   "cell_type": "code",
   "execution_count": 2,
   "metadata": {},
   "outputs": [
    {
     "data": {
      "text/html": [
       "<div>\n",
       "<style scoped>\n",
       "    .dataframe tbody tr th:only-of-type {\n",
       "        vertical-align: middle;\n",
       "    }\n",
       "\n",
       "    .dataframe tbody tr th {\n",
       "        vertical-align: top;\n",
       "    }\n",
       "\n",
       "    .dataframe thead th {\n",
       "        text-align: right;\n",
       "    }\n",
       "</style>\n",
       "<table border=\"1\" class=\"dataframe\">\n",
       "  <thead>\n",
       "    <tr style=\"text-align: right;\">\n",
       "      <th></th>\n",
       "      <th>country</th>\n",
       "      <th>points</th>\n",
       "      <th>price</th>\n",
       "      <th>value</th>\n",
       "    </tr>\n",
       "  </thead>\n",
       "  <tbody>\n",
       "    <tr>\n",
       "      <th>0</th>\n",
       "      <td>Canada</td>\n",
       "      <td>92</td>\n",
       "      <td>30.0</td>\n",
       "      <td>3.066667</td>\n",
       "    </tr>\n",
       "    <tr>\n",
       "      <th>1</th>\n",
       "      <td>Canada</td>\n",
       "      <td>83</td>\n",
       "      <td>12.0</td>\n",
       "      <td>6.916667</td>\n",
       "    </tr>\n",
       "    <tr>\n",
       "      <th>2</th>\n",
       "      <td>Croatia</td>\n",
       "      <td>88</td>\n",
       "      <td>20.0</td>\n",
       "      <td>4.400000</td>\n",
       "    </tr>\n",
       "    <tr>\n",
       "      <th>3</th>\n",
       "      <td>Croatia</td>\n",
       "      <td>88</td>\n",
       "      <td>27.0</td>\n",
       "      <td>3.259259</td>\n",
       "    </tr>\n",
       "    <tr>\n",
       "      <th>4</th>\n",
       "      <td>Canada</td>\n",
       "      <td>92</td>\n",
       "      <td>32.0</td>\n",
       "      <td>2.875000</td>\n",
       "    </tr>\n",
       "  </tbody>\n",
       "</table>\n",
       "</div>"
      ],
      "text/plain": [
       "   country  points  price     value\n",
       "0   Canada      92   30.0  3.066667\n",
       "1   Canada      83   12.0  6.916667\n",
       "2  Croatia      88   20.0  4.400000\n",
       "3  Croatia      88   27.0  3.259259\n",
       "4   Canada      92   32.0  2.875000"
      ]
     },
     "execution_count": 2,
     "metadata": {},
     "output_type": "execute_result"
    }
   ],
   "source": [
    "wines = pd.read_csv(\"wines.csv\")\n",
    "wines.head()"
   ]
  },
  {
   "cell_type": "markdown",
   "metadata": {},
   "source": [
    "The original data were downloaded [here](https://www.kaggle.com/zynicide/wine-reviews/version/4), but only a few variables have been selected and it has been filtered down so that it only includes wines from Canada and Croatia.\n",
    "\n",
    "The `points` column indicates the number of points WineEnthusiast magazine awarded the wine on a scale of 1-100, where 1 is the worst wine and 100 is the best (they only publish reviews for wines that score at least 80 points). The `price` column records the price of the wine in US dollars. The `value` column was generated by taking `points` and dividing by `price`, so this column is in units of points per US dollar. \n",
    "\n",
    "We're going to compare the wine values of the two countries.\n",
    "\n",
    "There are two approaches we might take:\n",
    "1. the \"naïve\" approach: compute the mean value for each country and compare \n",
    "1. the \"sophisticated\" appproach: linear regression with value as the outcome and the country as the predictor\n",
    "\n",
    "Let's start with the naïve approach."
   ]
  },
  {
   "cell_type": "code",
   "execution_count": 13,
   "metadata": {},
   "outputs": [
    {
     "name": "stdout",
     "output_type": "stream",
     "text": [
      "Mean of Canadian wine value: 3.146 pts/$\n",
      "Mean of Croatian wine value: 4.118 pts/$\n"
     ]
    }
   ],
   "source": [
    "#Compute the mean `value` score for each country\n",
    "can_mean = wines.query(\"country == 'Canada'\").value.mean()\n",
    "print(\"Mean of Canadian wine value: {0:.3f} pts/$\".format(can_mean))\n",
    "\n",
    "cro_mean = wines.query(\"country == 'Croatia'\").value.mean()\n",
    "print(\"Mean of Croatian wine value: {0:.3f} pts/$\".format(cro_mean))"
   ]
  },
  {
   "cell_type": "code",
   "execution_count": 14,
   "metadata": {},
   "outputs": [
    {
     "name": "stdout",
     "output_type": "stream",
     "text": [
      "Croatian mean - Canadian mean: 0.972\n"
     ]
    }
   ],
   "source": [
    "print(\"Croatian mean - Canadian mean: {0:.3f}\".format(cro_mean-can_mean))"
   ]
  },
  {
   "cell_type": "markdown",
   "metadata": {},
   "source": [
    "On average, Croatian wines provide 0.972 pts/$ more value than Canadian wines. It could be that Croatian wines tend to score higher than Canadian wines, or that Croatian wines are less expensive, or a combination of both.\n",
    "\n",
    "---"
   ]
  },
  {
   "cell_type": "markdown",
   "metadata": {},
   "source": [
    "Now let's try the \"sophisticated\" approach. We'll run a linear regression using `country` to precict `value`. \n",
    "\n",
    "---\n",
    "\n",
    "Using the `pd.get_dummies()` function we add a column to `wines` called `is_croatia` that indicates whether the country is \"Croatia\" or not. Notice that this encodes all the country information that we have."
   ]
  },
  {
   "cell_type": "code",
   "execution_count": 232,
   "metadata": {},
   "outputs": [
    {
     "data": {
      "text/html": [
       "<div>\n",
       "<style scoped>\n",
       "    .dataframe tbody tr th:only-of-type {\n",
       "        vertical-align: middle;\n",
       "    }\n",
       "\n",
       "    .dataframe tbody tr th {\n",
       "        vertical-align: top;\n",
       "    }\n",
       "\n",
       "    .dataframe thead th {\n",
       "        text-align: right;\n",
       "    }\n",
       "</style>\n",
       "<table border=\"1\" class=\"dataframe\">\n",
       "  <thead>\n",
       "    <tr style=\"text-align: right;\">\n",
       "      <th></th>\n",
       "      <th>country</th>\n",
       "      <th>points</th>\n",
       "      <th>price</th>\n",
       "      <th>value</th>\n",
       "      <th>is_croatia</th>\n",
       "    </tr>\n",
       "  </thead>\n",
       "  <tbody>\n",
       "    <tr>\n",
       "      <th>0</th>\n",
       "      <td>Canada</td>\n",
       "      <td>92</td>\n",
       "      <td>30.0</td>\n",
       "      <td>3.066667</td>\n",
       "      <td>0</td>\n",
       "    </tr>\n",
       "    <tr>\n",
       "      <th>1</th>\n",
       "      <td>Canada</td>\n",
       "      <td>83</td>\n",
       "      <td>12.0</td>\n",
       "      <td>6.916667</td>\n",
       "      <td>0</td>\n",
       "    </tr>\n",
       "    <tr>\n",
       "      <th>2</th>\n",
       "      <td>Croatia</td>\n",
       "      <td>88</td>\n",
       "      <td>20.0</td>\n",
       "      <td>4.400000</td>\n",
       "      <td>1</td>\n",
       "    </tr>\n",
       "    <tr>\n",
       "      <th>3</th>\n",
       "      <td>Croatia</td>\n",
       "      <td>88</td>\n",
       "      <td>27.0</td>\n",
       "      <td>3.259259</td>\n",
       "      <td>1</td>\n",
       "    </tr>\n",
       "    <tr>\n",
       "      <th>4</th>\n",
       "      <td>Canada</td>\n",
       "      <td>92</td>\n",
       "      <td>32.0</td>\n",
       "      <td>2.875000</td>\n",
       "      <td>0</td>\n",
       "    </tr>\n",
       "  </tbody>\n",
       "</table>\n",
       "</div>"
      ],
      "text/plain": [
       "   country  points  price     value  is_croatia\n",
       "0   Canada      92   30.0  3.066667           0\n",
       "1   Canada      83   12.0  6.916667           0\n",
       "2  Croatia      88   20.0  4.400000           1\n",
       "3  Croatia      88   27.0  3.259259           1\n",
       "4   Canada      92   32.0  2.875000           0"
      ]
     },
     "execution_count": 232,
     "metadata": {},
     "output_type": "execute_result"
    }
   ],
   "source": [
    "wines['is_croatia'] = pd.get_dummies(wines['country'])['Croatia']\n",
    "wines.head()"
   ]
  },
  {
   "cell_type": "code",
   "execution_count": 16,
   "metadata": {},
   "outputs": [
    {
     "name": "stdout",
     "output_type": "stream",
     "text": [
      "Regression slope is 0.972\n",
      "Regression intercept is 3.146\n"
     ]
    }
   ],
   "source": [
    "## Perform the regression\n",
    "model = LinearRegression().fit(wines[['is_croatia']],wines['value'])\n",
    "## Print regression coefficients\n",
    "print(\"Regression slope is {slope:.3f}\".format(slope = model.coef_[0]))\n",
    "print(\"Regression intercept is {intercept:.3f}\".format(intercept = model.intercept_))"
   ]
  },
  {
   "cell_type": "markdown",
   "metadata": {},
   "source": [
    "The intercept is the mean of the Canadian wines (when `is_croatia == 0`), and the slope is the difference of the means, so the intercept + the slope = the mean of the Croatian wines (when `is_croatia == 1`).  \n",
    "\n",
    "This makes sense if we remember the regression equation:\n",
    "\n",
    "$$ Y = \\beta_0 + \\beta_1 X. $$\n",
    "\n",
    "In the case of this regression, $X$ is the indicator variable `is_croatia`, and $Y$ is `value`. When $X=0$ (a Canadian wine), the value is predicted as the intercept, $\\beta_0$, while when $X=1$ (a Croatian wine), the value is predicted as the intercept plus the slope, $\\beta_0+\\beta_1$. So what the regression does is it guesses the Canadian sample mean for Canadian wines and the Croatian sample mean for Croatian wines, capturing the difference in value through the slope parameter. (The slope is just rise over run, so the rise is Croatian mean - Canadian mean, and the run is $1-0$.) \n",
    "\n",
    "**The \"naïve\" approach and the \"sophisticated\" approach are the same!** Don't be fooled by the fact that \"linear regression\" sounds fancy---it isn't necessarily. It's all about how you use it and the conclusions we draw from it.\n"
   ]
  },
  {
   "cell_type": "markdown",
   "metadata": {},
   "source": [
    "---\n",
    "\n",
    "# Homework\n",
    "\n",
    "## Part 1: Simpson's Paradox\n",
    "\n",
    "Last week, when analyzing the `diamonds` dataset on hw6, you may have noticed that the sign of a variable's regression slope may change when going from a single variable regression to a multivariable regression. This phenomenon is known as [**Simpson's paradox**](https://en.wikipedia.org/wiki/Simpson%27s_paradox). Let's explore it further now using the [`penguins` dataset](https://education.rstudio.com/blog/2020/07/palmerpenguins-cran/):"
   ]
  },
  {
   "cell_type": "code",
   "execution_count": 249,
   "metadata": {
    "scrolled": true
   },
   "outputs": [],
   "source": [
    "## load penguins data\n",
    "penguins = sns.load_dataset('penguins')"
   ]
  },
  {
   "cell_type": "markdown",
   "metadata": {},
   "source": [
    "Our goal will be to predict bill depth (in mm) using bill length (in mm). We will do so using linear regression, in which case we need to ensure there are no missing values in these two columns:"
   ]
  },
  {
   "cell_type": "code",
   "execution_count": 250,
   "metadata": {},
   "outputs": [],
   "source": [
    "## drop observations with NaN in specified columns\n",
    "pengs = penguins.dropna(subset = ['bill_length_mm', 'bill_depth_mm'])"
   ]
  },
  {
   "cell_type": "markdown",
   "metadata": {},
   "source": [
    "Use this cleaned `pengs` table in the problems in part 1."
   ]
  },
  {
   "cell_type": "markdown",
   "metadata": {
    "problem": 1
   },
   "source": [
    "---\n",
    "\n",
    "### Problem 1 (4 pts)\n",
    "\n",
    "Use `sns.regplot()` to make a scatterplot with a linear regression line, where bill length is on the $x$-axis and bill depth is on the $y$-axis (tutorial [here](https://seaborn.pydata.org/tutorial/regression.html)). \n",
    "\n",
    "Use `sklearn` to fit a single variable linear regression with bill length as the predictor and bill depth as the outcome. Print the regression slope of the bill length variable rounded to two decimal places.\n",
    "\n",
    "---"
   ]
  },
  {
   "cell_type": "code",
   "execution_count": 251,
   "metadata": {},
   "outputs": [
    {
     "name": "stdout",
     "output_type": "stream",
     "text": [
      "Regression slope is -0.09\n"
     ]
    },
    {
     "data": {
      "image/png": "[encoded data removed]",
      "text/plain": [
       "<Figure size 432x288 with 1 Axes>"
      ]
     },
     "metadata": {},
     "output_type": "display_data"
    }
   ],
   "source": [
    "sns.regplot(x=\"bill_length_mm\", y=\"bill_depth_mm\", data=pengs)\n",
    "\n",
    "linear_model = LinearRegression()\n",
    "\n",
    "linear_model.fit(np.asarray(pengs.bill_length_mm).reshape(-1,1), pengs.bill_depth_mm)\n",
    "\n",
    "print(\"Regression slope is {:.2f}\".format(linear_model.coef_[0]))\n",
    "\n"
   ]
  },
  {
   "cell_type": "markdown",
   "metadata": {
    "problem": 2
   },
   "source": [
    "---\n",
    "\n",
    "### Problem 2 (4 pts)\n",
    "\n",
    "What does this regression slope indicate about the relationship between bill length and depth? Also, specifically interpret the *value* of the slope: what does this number mean in terms of the bill length and depth measurements?\n",
    "\n",
    "---"
   ]
  },
  {
   "cell_type": "markdown",
   "metadata": {},
   "source": [
    "The regression slope indicates the expected change for the the bill depth per increment in increase of bill length. Specifically, the bill depth is expected do decrease by -0.09 mm for every 1 mm increase in bill length."
   ]
  },
  {
   "cell_type": "markdown",
   "metadata": {
    "problem": 3
   },
   "source": [
    "---\n",
    "\n",
    "### Problem 3 (8 pts)\n",
    "\n",
    "(a) Use `sns.lmplot()` to make a scatterplot with bill length on the $x$-axis, bill depth on the $y$-axis, data colored by  species and a different linear regression line for each species (tutorial [here](https://seaborn.pydata.org/tutorial/regression.html)). \n",
    "\n",
    "(b) Create indicator variables for each species.\n",
    "\n",
    "(c) Use `sklearn` to fit a multivariable linear regression with bill length and each of the species indicator variables as predictors and bill depth as the outcome. Print the regression coefficient of the bill length variable rounded to two decimal places.\n",
    "\n",
    "What does this regression slope indicate about the *species-specific* relationship between bill length and depth?\n",
    "\n",
    "---"
   ]
  },
  {
   "cell_type": "code",
   "execution_count": 252,
   "metadata": {},
   "outputs": [
    {
     "data": {
      "text/plain": [
       "<seaborn.axisgrid.FacetGrid at 0x2313ea20128>"
      ]
     },
     "execution_count": 252,
     "metadata": {},
     "output_type": "execute_result"
    },
    {
     "data": {
      "image/png": "[encoded data removed]",
      "text/plain": [
       "<Figure size 444.125x360 with 1 Axes>"
      ]
     },
     "metadata": {},
     "output_type": "display_data"
    }
   ],
   "source": [
    "sns.lmplot(x=\"bill_length_mm\", y=\"bill_depth_mm\", data=pengs, hue = 'species')"
   ]
  },
  {
   "cell_type": "code",
   "execution_count": 253,
   "metadata": {},
   "outputs": [],
   "source": [
    "pengs = pengs.copy()\n",
    "pengs['is_Adelie'] = pd.get_dummies(pengs['species'])['Adelie']\n",
    "pengs['is_Chinstrap'] = pd.get_dummies(pengs['species'])['Chinstrap']\n",
    "pengs['is_Gentoo'] = pd.get_dummies(pengs['species'])['Gentoo']"
   ]
  },
  {
   "cell_type": "code",
   "execution_count": 254,
   "metadata": {},
   "outputs": [
    {
     "name": "stdout",
     "output_type": "stream",
     "text": [
      "Regression slope for bill length is 0.20\n"
     ]
    }
   ],
   "source": [
    "multi_reg = LinearRegression()\n",
    "multi_reg.fit(pengs[['bill_length_mm','is_Adelie','is_Chinstrap','is_Gentoo']], pengs.bill_depth_mm)\n",
    "print(\"Regression slope for bill length is {:.2f}\".format(multi_reg.coef_[0]))"
   ]
  },
  {
   "cell_type": "markdown",
   "metadata": {},
   "source": [
    "The regression shows that for when looking at any particular species, there is an expected 0.20 mm increase in bill depth for 1 mm increase in the bill length. "
   ]
  },
  {
   "cell_type": "markdown",
   "metadata": {
    "problem": 4
   },
   "source": [
    "---\n",
    "\n",
    "### Problem 4 (4 pts)\n",
    "\n",
    "Explain why the regression slope of the bill length variable changed signs when we went from the single variable regression over bill length to the multivariable model with species information? Which model do you think better explains the relationship between bill length and bill depth (justify your answer)?\n",
    "\n",
    "---"
   ]
  },
  {
   "cell_type": "markdown",
   "metadata": {},
   "source": [
    "This is an example of Simpson's paradox. The single variable regression simply took all of the data points and produced a regression which trended with a slightly downward slope. When evaluating the relationship between bill length and bill depth using the data points from each species separately and then weighing those regressions (which are all positive in slope), results in a positive regression coefficient in the multivariable model. The multivariable model is more efective at explaining the relationship betwee bill length and bill depth. Some species can have bigger body parts than others and so categorizing them by species and evaluating them before producing a regression coefficient yields a more clear picture of how the trends between bill length and depth act."
   ]
  },
  {
   "cell_type": "markdown",
   "metadata": {
    "problem": 5
   },
   "source": [
    "---\n",
    "\n",
    "### Problem 5 (4 pts)\n",
    "\n",
    "Print the other regression coefficients from the multivariable model stored in the `.coef_` array (exclude the bill length coefficient). What do these other coefficients represent?\n",
    "\n",
    "---"
   ]
  },
  {
   "cell_type": "code",
   "execution_count": 255,
   "metadata": {},
   "outputs": [
    {
     "name": "stdout",
     "output_type": "stream",
     "text": [
      "Regression coefficient for is_Adelie is 2.35\n",
      "Regression coefficient for is_Chinstrap is 0.41\n",
      "Regression coefficient for is_Gentoo is -2.76\n"
     ]
    }
   ],
   "source": [
    "print(\"Regression coefficient for is_Adelie is {:.2f}\".format(multi_reg.coef_[1]))\n",
    "print(\"Regression coefficient for is_Chinstrap is {:.2f}\".format(multi_reg.coef_[2]))\n",
    "print(\"Regression coefficient for is_Gentoo is {:.2f}\".format(multi_reg.coef_[3]))\n"
   ]
  },
  {
   "cell_type": "markdown",
   "metadata": {},
   "source": [
    "These coefficients represent the disparity in bill depth between a particular species and the other two species."
   ]
  },
  {
   "cell_type": "markdown",
   "metadata": {
    "narrative": true
   },
   "source": [
    "---\n",
    "\n",
    "# Part 2: Logistic Regression and Bootstrap Resampling\n",
    "\n",
    "Logistic regression is a form of linear regression used to model a *binary outcome*. Let's try to predict penguin sex using body mass. First, let's drop all rows from the original data that have a NaN in the body mass and/or sex columns:"
   ]
  },
  {
   "cell_type": "code",
   "execution_count": 256,
   "metadata": {
    "narrative": true
   },
   "outputs": [],
   "source": [
    "## drop observations with NaN in specified columns\n",
    "pengs2 = penguins.dropna(subset = ['body_mass_g', 'sex'])"
   ]
  },
  {
   "cell_type": "markdown",
   "metadata": {
    "narrative": true
   },
   "source": [
    "Use this cleaned `pengs2` table in the problems in part 2."
   ]
  },
  {
   "cell_type": "markdown",
   "metadata": {
    "problem": 6
   },
   "source": [
    "---\n",
    "\n",
    "### Problem 6 (4 pts)\n",
    "\n",
    "Split the data into a training and test set using the `train_test_split()` function. *Note: The `train_test_split()` function has already been imported from `sklearn` above and can be used without a prefix.* Set the test set size to 20% and make sure the `random_state` parameter is set to 15, so everyone gets the same \"random\" split. \n",
    "\n",
    "Print the first few lines of the training and test sets, with a print statement before each table to label which is which.\n",
    "\n",
    "---"
   ]
  },
  {
   "cell_type": "code",
   "execution_count": 257,
   "metadata": {},
   "outputs": [
    {
     "name": "stdout",
     "output_type": "stream",
     "text": [
      "Training set for body mass:\n",
      "318    4625.0\n",
      "224    5400.0\n",
      "132    3500.0\n",
      "86     3800.0\n",
      "106    3750.0\n",
      "Name: body_mass_g, dtype: float64\n",
      "\n",
      "\n",
      "Testing set for body mass:\n",
      "85     3550.0\n",
      "130    3325.0\n",
      "92     3400.0\n",
      "195    3500.0\n",
      "105    3550.0\n",
      "Name: body_mass_g, dtype: float64\n",
      "\n",
      "\n",
      "Training set for sex:\n",
      "318    FEMALE\n",
      "224      MALE\n",
      "132    FEMALE\n",
      "86       MALE\n",
      "106    FEMALE\n",
      "Name: sex, dtype: object\n",
      "\n",
      "\n",
      "Testing set for sex:\n",
      "85       MALE\n",
      "130    FEMALE\n",
      "92     FEMALE\n",
      "195    FEMALE\n",
      "105      MALE\n",
      "Name: sex, dtype: object\n"
     ]
    }
   ],
   "source": [
    "mass_train, mass_test, sex_train, sex_test = train_test_split(pengs2.body_mass_g, pengs2.sex, test_size=0.2, random_state=15)\n",
    "\n",
    "print(\"Training set for body mass:\")\n",
    "print(mass_train.head())\n",
    "print(\"\\n\")\n",
    "\n",
    "print(\"Testing set for body mass:\")\n",
    "print(mass_test.head())\n",
    "print(\"\\n\")\n",
    "\n",
    "print(\"Training set for sex:\")\n",
    "print(sex_train.head())\n",
    "print(\"\\n\")\n",
    "\n",
    "print(\"Testing set for sex:\")\n",
    "print(sex_test.head())\n",
    "\n",
    "\n",
    "\n"
   ]
  },
  {
   "cell_type": "markdown",
   "metadata": {
    "problem": 7
   },
   "source": [
    "---\n",
    "\n",
    "### Problem 7 (4 pts)\n",
    "\n",
    "Fit a logistic regression model with sex as the outcome and body mass as the predictor. Print the regression coefficient **rounded to 3 significant digits**.\n",
    "\n",
    "---"
   ]
  },
  {
   "cell_type": "code",
   "execution_count": 258,
   "metadata": {},
   "outputs": [
    {
     "name": "stdout",
     "output_type": "stream",
     "text": [
      "Logisitc regression coefficient is 0.000819\n"
     ]
    }
   ],
   "source": [
    "log_reg = LogisticRegression()\n",
    "log_reg.fit(np.asarray(mass_train).reshape(-1,1), sex_train)\n",
    "print(\"Logisitc regression coefficient is {}\".format(np.round(log_reg.coef_[0][0],6))) \n",
    "\n"
   ]
  },
  {
   "cell_type": "markdown",
   "metadata": {
    "problem": 8
   },
   "source": [
    "---\n",
    "\n",
    "### Problem 8 (4 pts)\n",
    "\n",
    "Use the model to predict the sex of penguins in the test set. Report the prediction accuracy (number of correct predictions divided by the total number of predictions) as a percentage rounded to one decimal place. \n",
    "\n",
    "---"
   ]
  },
  {
   "cell_type": "code",
   "execution_count": 259,
   "metadata": {},
   "outputs": [
    {
     "name": "stdout",
     "output_type": "stream",
     "text": [
      "The prediction accuracy for the sex in the test set is 55.2%\n"
     ]
    }
   ],
   "source": [
    "predictions = log_reg.predict(np.asarray(mass_test).reshape(-1,1))\n",
    "\n",
    "accurate = 100*log_reg.score(np.asarray(mass_test).reshape(-1,1), sex_test)\n",
    "print(\"The prediction accuracy for the sex in the test set is {}%\".format(np.round(accurate,1)))\n"
   ]
  },
  {
   "cell_type": "markdown",
   "metadata": {
    "problem": 9
   },
   "source": [
    "---\n",
    "\n",
    "### Problem 9 (4 pts)\n",
    "\n",
    "Repeat the previous exercise for the training set.\n",
    "\n",
    "---"
   ]
  },
  {
   "cell_type": "code",
   "execution_count": 260,
   "metadata": {},
   "outputs": [
    {
     "name": "stdout",
     "output_type": "stream",
     "text": [
      "The prediction accuracy for the sex in the training set is 65.0%\n"
     ]
    }
   ],
   "source": [
    "predict = log_reg.predict(np.asarray(mass_train).reshape(-1,1))\n",
    "sextrain = np.asarray(sex_train)\n",
    "\n",
    "percent = 100*log_reg.score(np.asarray(mass_train).reshape(-1,1), sex_train)\n",
    "\n",
    "print(\"The prediction accuracy for the sex in the training set is {}%\".format(np.round(percent,1)))\n",
    "        "
   ]
  },
  {
   "cell_type": "markdown",
   "metadata": {
    "problem": 10
   },
   "source": [
    "---\n",
    "\n",
    "### Problem 10 (4 pts)\n",
    "\n",
    "Based on the above prediction accuracies, do you think this is a good model for predicting penguin sex (justify your answer)? How might you improve this model with the data to which you already have access?\n",
    "\n",
    "---"
   ]
  },
  {
   "cell_type": "markdown",
   "metadata": {},
   "source": [
    "This isn't a good model for predicted penguin sex as the prediction accuracies aren't significantly different that outright guessing the gender of the penguin. To improve this, I would conduct multiple logistic regression analyses on the data with the incorporation of the species. The disparities between the species in body mass may have influenced how gender was being identified since the typical body mass of the male of one species could be about the same as the typical body mass of the female of another species."
   ]
  },
  {
   "cell_type": "markdown",
   "metadata": {
    "problem": 11
   },
   "source": [
    "---\n",
    "\n",
    "### Problem 11 (6 pts)\n",
    "**You must work alone on this problem. You may not seek help in study hall or on Ed except to clarify the problem.**\n",
    "\n",
    "Using the bootstrap resampling method, generate a 99% confidence interval for the mean of the absolute difference of two standard normal variables. Start by generating a sample of 30 data points from this distribution and resampling a large number of times.\n",
    "\n",
    "Approximate the true mean of the distribution correct to 2 decimal places. Does your bootstrapped confidence interval contain the true mean?\n",
    "\n",
    "---"
   ]
  },
  {
   "cell_type": "markdown",
   "metadata": {},
   "source": [
    "The bootstrap confidence interval contains the true mean."
   ]
  },
  {
   "cell_type": "code",
   "execution_count": null,
   "metadata": {},
   "outputs": [],
   "source": []
  }
 ],
 "metadata": {
  "kernelspec": {
   "display_name": "Python 3 (ipykernel)",
   "language": "python",
   "name": "python3"
  },
  "language_info": {
   "codemirror_mode": {
    "name": "ipython",
    "version": 3
   },
   "file_extension": ".py",
   "mimetype": "text/x-python",
   "name": "python",
   "nbconvert_exporter": "python",
   "pygments_lexer": "ipython3",
   "version": "3.9.7"
  }
 },
 "nbformat": 4,
 "nbformat_minor": 4
}
