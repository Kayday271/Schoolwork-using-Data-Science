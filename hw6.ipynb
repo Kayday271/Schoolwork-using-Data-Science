{
 "cells": [
  {
   "cell_type": "markdown",
   "metadata": {},
   "source": [
    "# Discussion Questions\n",
    "\n",
    "Let's discuss some issues about the past election from the perspective of data science.\n",
    "\n",
    "---\n",
    "\n",
    "Polling is a popular method to measure public opinion, especially with respect to political candidates. However, polling data can be biased in many ways. A famous example of a polling mistake occured around the 1936 U.S. election(https://en.wikipedia.org/wiki/1936_United_States_presidential_election): the Literary Digest, an influential magazine which had correctly predicted the previous five elections, predicted that Republican candidate Alf Landon would defeat Democratic candidate Franklin D. Roosevelt in a landslide. In the end, Roosevelt won all states expect ME and VT. \n",
    "\n",
    "How did the Literary Digest make such a big mistake? A convincing hypothesis is that their sampling method was biased: they polled their own readers, people found in vehicle registration lists, and telephone owners. These features correlate with wealth, and weathly individuals at the time were not happy with Roosevelt's \"New Deal\". Other studies suggest(https://en.wikipedia.org/wiki/The_Literary_Digest) that non-response bias was the main reason for the misleading poll results: people who disliked Roosevelt were more likely to respond the survey.\n",
    "\n",
    "**What other factors do you think may affect the accuracy of poll in general?**\n",
    "\n",
    "---\n",
    "\n",
    "You likely saw a lot of \"exit poll\" data covered in news reports on election day. An election exit poll is a poll of voters taken immediately after they have exited the polling stations ([more info here](https://en.wikipedia.org/wiki/Exit_poll)).\n",
    "\n",
    "**What advantages do you think exit polls have compared with to other election-related polls? What biases do you think exist in exit polls?**\n",
    "\n",
    "---\n",
    "\n",
    "Many institutions make predications about elections based on polling data (eg. [FiveThirtyEight](https://projects.fivethirtyeight.com/2020-election-forecast/) and [The Economist](https://projects.economist.com/us-2020-forecast/president)). They may use phrases  like \"Candidate A has a 40% chance of winning, and candidate B has a 60% chance of winning\" or \"The likelihood of Candidate A winning is 2 in 5, and the likelihood of candidate B's winning is 3 in 5\".\n",
    "\n",
    "**How do you understand these statements? Is the winner already determined by these polls?**\n",
    "\n",
    "---\n",
    "\n",
    "Many predictions will give a range of likely election results, because sampled pre-election data can never perfectly predict the full result of an election. \n",
    "\n",
    "**What factors do you think may contribute to the difference between poll-based predictions and the real election results?**"
   ]
  },
  {
   "cell_type": "markdown",
   "metadata": {},
   "source": [
    "### **Note:** You do NOT need to include answers to the above questions in your homework submission. They are for in-section discussion only."
   ]
  },
  {
   "cell_type": "markdown",
   "metadata": {
    "narrative": true
   },
   "source": [
    "# Homework 6\n",
    "\n"
   ]
  },
  {
   "cell_type": "code",
   "execution_count": 13,
   "metadata": {
    "narrative": true
   },
   "outputs": [],
   "source": [
    "%matplotlib inline\n",
    "## import libraries\n",
    "import numpy\n",
    "import pandas as pd\n",
    "from matplotlib import pyplot as plt\n",
    "from sklearn.linear_model import LinearRegression"
   ]
  },
  {
   "cell_type": "markdown",
   "metadata": {
    "problem": 1
   },
   "source": [
    "---\n",
    "\n",
    "## Problem 1 (6 pts)\n",
    "\n",
    "We will explore the relationship between the price of a diamond and its properties (e.g. color, carat weight). A description of these features can be found [here](https://www.kaggle.com/shivam2503/diamonds), while a glossary of diamond-related terms can be found [here](https://www.lumeradiamonds.com/diamond-education/glossary).\n",
    "\n",
    "Load `diamonds.csv` using `pandas` into a variable called `diamonds`. Use the `.head()` method to display the dataset's columns and first five rows. What features do you think will be correlated with the price of diamonds? Do you believe a linear model is a suitable choice for any of these features? Justify your answer.\n",
    "\n",
    "---"
   ]
  },
  {
   "cell_type": "code",
   "execution_count": 166,
   "metadata": {},
   "outputs": [
    {
     "data": {
      "text/html": [
       "<div>\n",
       "<style scoped>\n",
       "    .dataframe tbody tr th:only-of-type {\n",
       "        vertical-align: middle;\n",
       "    }\n",
       "\n",
       "    .dataframe tbody tr th {\n",
       "        vertical-align: top;\n",
       "    }\n",
       "\n",
       "    .dataframe thead th {\n",
       "        text-align: right;\n",
       "    }\n",
       "</style>\n",
       "<table border=\"1\" class=\"dataframe\">\n",
       "  <thead>\n",
       "    <tr style=\"text-align: right;\">\n",
       "      <th></th>\n",
       "      <th>carat</th>\n",
       "      <th>cut</th>\n",
       "      <th>color</th>\n",
       "      <th>clarity</th>\n",
       "      <th>depth</th>\n",
       "      <th>table</th>\n",
       "      <th>price</th>\n",
       "      <th>x</th>\n",
       "      <th>y</th>\n",
       "      <th>z</th>\n",
       "    </tr>\n",
       "  </thead>\n",
       "  <tbody>\n",
       "    <tr>\n",
       "      <th>0</th>\n",
       "      <td>0.23</td>\n",
       "      <td>Ideal</td>\n",
       "      <td>E</td>\n",
       "      <td>SI2</td>\n",
       "      <td>61.5</td>\n",
       "      <td>55.0</td>\n",
       "      <td>326</td>\n",
       "      <td>3.95</td>\n",
       "      <td>3.98</td>\n",
       "      <td>2.43</td>\n",
       "    </tr>\n",
       "    <tr>\n",
       "      <th>1</th>\n",
       "      <td>0.21</td>\n",
       "      <td>Premium</td>\n",
       "      <td>E</td>\n",
       "      <td>SI1</td>\n",
       "      <td>59.8</td>\n",
       "      <td>61.0</td>\n",
       "      <td>326</td>\n",
       "      <td>3.89</td>\n",
       "      <td>3.84</td>\n",
       "      <td>2.31</td>\n",
       "    </tr>\n",
       "    <tr>\n",
       "      <th>2</th>\n",
       "      <td>0.23</td>\n",
       "      <td>Good</td>\n",
       "      <td>E</td>\n",
       "      <td>VS1</td>\n",
       "      <td>56.9</td>\n",
       "      <td>65.0</td>\n",
       "      <td>327</td>\n",
       "      <td>4.05</td>\n",
       "      <td>4.07</td>\n",
       "      <td>2.31</td>\n",
       "    </tr>\n",
       "    <tr>\n",
       "      <th>3</th>\n",
       "      <td>0.29</td>\n",
       "      <td>Premium</td>\n",
       "      <td>I</td>\n",
       "      <td>VS2</td>\n",
       "      <td>62.4</td>\n",
       "      <td>58.0</td>\n",
       "      <td>334</td>\n",
       "      <td>4.20</td>\n",
       "      <td>4.23</td>\n",
       "      <td>2.63</td>\n",
       "    </tr>\n",
       "    <tr>\n",
       "      <th>4</th>\n",
       "      <td>0.31</td>\n",
       "      <td>Good</td>\n",
       "      <td>J</td>\n",
       "      <td>SI2</td>\n",
       "      <td>63.3</td>\n",
       "      <td>58.0</td>\n",
       "      <td>335</td>\n",
       "      <td>4.34</td>\n",
       "      <td>4.35</td>\n",
       "      <td>2.75</td>\n",
       "    </tr>\n",
       "  </tbody>\n",
       "</table>\n",
       "</div>"
      ],
      "text/plain": [
       "   carat      cut color clarity  depth  table  price     x     y     z\n",
       "0   0.23    Ideal     E     SI2   61.5   55.0    326  3.95  3.98  2.43\n",
       "1   0.21  Premium     E     SI1   59.8   61.0    326  3.89  3.84  2.31\n",
       "2   0.23     Good     E     VS1   56.9   65.0    327  4.05  4.07  2.31\n",
       "3   0.29  Premium     I     VS2   62.4   58.0    334  4.20  4.23  2.63\n",
       "4   0.31     Good     J     SI2   63.3   58.0    335  4.34  4.35  2.75"
      ]
     },
     "execution_count": 166,
     "metadata": {},
     "output_type": "execute_result"
    }
   ],
   "source": [
    "diamonds = pd.read_csv('hw6/diamonds.csv')\n",
    "diamonds.head() "
   ]
  },
  {
   "cell_type": "markdown",
   "metadata": {},
   "source": [
    "The carat and the dimensions (x,y,z) of the diamond will probably will have a positive correlation with the price. A linear model would be appropriate for the carat but not for the individual dimensions. There probably is a linear relationship between how much the diamond weighs and the price. One dimensional quantities will likely not have a linear relationship. The mass inherently is a quantity that represents three-dimensional objects and so one-dimensional metrics will not have the same relationship as the carat, under the assumption that all diamonds utilized have essentially the same density. The relationship between the the individual dimensions and the price would be positive, but not linear."
   ]
  },
  {
   "cell_type": "markdown",
   "metadata": {
    "problem": 2
   },
   "source": [
    "---\n",
    "\n",
    "## Problem 2 (2 pts)\n",
    "\n",
    "Linear regression requires all variables to be numeric, but the values for several features in this dataset are strings.\n",
    "\n",
    "One way to deal with this issue is to create an *indicator variable*. An indicator variable simply indicates whether or not an observation is in a category. The variable is equal to 1 if the observation is in the category, and 0 if not. \n",
    "\n",
    "Use the `pandas.get_dummies()` function(https://pandas.pydata.org/pandas-docs/stable/reference/api/pandas.get_dummies.html) on *just* the `cut` column and display the first few rows of this result. Do **not** modify the `diamonds` object with this new data frame, we are going to do this another way in the next problem.\n",
    "\n",
    "(*Confidence check: you will get a new dataframe with five indicator variables; one for each cut category.*)\n",
    "\n",
    "---"
   ]
  },
  {
   "cell_type": "code",
   "execution_count": 167,
   "metadata": {},
   "outputs": [
    {
     "data": {
      "text/html": [
       "<div>\n",
       "<style scoped>\n",
       "    .dataframe tbody tr th:only-of-type {\n",
       "        vertical-align: middle;\n",
       "    }\n",
       "\n",
       "    .dataframe tbody tr th {\n",
       "        vertical-align: top;\n",
       "    }\n",
       "\n",
       "    .dataframe thead th {\n",
       "        text-align: right;\n",
       "    }\n",
       "</style>\n",
       "<table border=\"1\" class=\"dataframe\">\n",
       "  <thead>\n",
       "    <tr style=\"text-align: right;\">\n",
       "      <th></th>\n",
       "      <th>Fair</th>\n",
       "      <th>Good</th>\n",
       "      <th>Ideal</th>\n",
       "      <th>Premium</th>\n",
       "      <th>Very Good</th>\n",
       "    </tr>\n",
       "  </thead>\n",
       "  <tbody>\n",
       "    <tr>\n",
       "      <th>0</th>\n",
       "      <td>0</td>\n",
       "      <td>0</td>\n",
       "      <td>1</td>\n",
       "      <td>0</td>\n",
       "      <td>0</td>\n",
       "    </tr>\n",
       "    <tr>\n",
       "      <th>1</th>\n",
       "      <td>0</td>\n",
       "      <td>0</td>\n",
       "      <td>0</td>\n",
       "      <td>1</td>\n",
       "      <td>0</td>\n",
       "    </tr>\n",
       "    <tr>\n",
       "      <th>2</th>\n",
       "      <td>0</td>\n",
       "      <td>1</td>\n",
       "      <td>0</td>\n",
       "      <td>0</td>\n",
       "      <td>0</td>\n",
       "    </tr>\n",
       "    <tr>\n",
       "      <th>3</th>\n",
       "      <td>0</td>\n",
       "      <td>0</td>\n",
       "      <td>0</td>\n",
       "      <td>1</td>\n",
       "      <td>0</td>\n",
       "    </tr>\n",
       "    <tr>\n",
       "      <th>4</th>\n",
       "      <td>0</td>\n",
       "      <td>1</td>\n",
       "      <td>0</td>\n",
       "      <td>0</td>\n",
       "      <td>0</td>\n",
       "    </tr>\n",
       "  </tbody>\n",
       "</table>\n",
       "</div>"
      ],
      "text/plain": [
       "   Fair  Good  Ideal  Premium  Very Good\n",
       "0     0     0      1        0          0\n",
       "1     0     0      0        1          0\n",
       "2     0     1      0        0          0\n",
       "3     0     0      0        1          0\n",
       "4     0     1      0        0          0"
      ]
     },
     "execution_count": 167,
     "metadata": {},
     "output_type": "execute_result"
    }
   ],
   "source": [
    "cut_dummies = pd.get_dummies(diamonds.cut)\n",
    "cut_dummies.head()"
   ]
  },
  {
   "cell_type": "markdown",
   "metadata": {
    "problem": 3
   },
   "source": [
    "---\n",
    "\n",
    "## Problem 3 (4 pts)\n",
    "\n",
    "Another way is to map these strings to a predefined set of numeric values. This method works well when there is a natural ordering to the categories, that we can reflect in the numeric values.\n",
    "\n",
    "Use the [`.map()` method](https://pandas.pydata.org/pandas-docs/stable/reference/api/pandas.Series.map.html) along with the dictionaries defined below to change the string values in the `cut`, `color` and `clarity` columns to numeric values. Update the `diamonds` dataframe with these new columns (overwrite the old columns containing strings). \n",
    "\n",
    "Next, create a new feature, `volume`, based on the `x`, `y`, and `z` dimensions in the data.\n",
    "\n",
    "$$Volume = x*y*z$$\n",
    "\n",
    "Compute the volume of each diamond and store the result in a new column named `volume` in the `diamonds` dataframe.\n",
    "\n",
    "Use `.head()` to display the first five rows of new diamond dataset.\n",
    "\n",
    "---"
   ]
  },
  {
   "cell_type": "code",
   "execution_count": 168,
   "metadata": {},
   "outputs": [],
   "source": [
    "## All of these are ordered from worst to best\n",
    "cut_map = {\"Fair\": 1, \"Good\": 2, \"Very Good\": 3, \"Premium\": 4, \"Ideal\": 5}\n",
    "color_map = {\"J\": 1, \"I\": 2, \"H\": 3, \"G\": 4, \"F\": 5, \"E\": 6, \"D\": 7}\n",
    "clarity_map = {\"I1\": 1, \"SI2\": 2, \"SI1\": 3, \"VS2\": 4, \"VS1\": 5, \"VVS2\": 6, \"VVS1\": 7, \"IF\": 8}"
   ]
  },
  {
   "cell_type": "code",
   "execution_count": 169,
   "metadata": {},
   "outputs": [],
   "source": [
    "diamonds.cut = diamonds.cut.map(cut_map)\n",
    "diamonds.color = diamonds.color.map(color_map)\n",
    "diamonds.clarity = diamonds.clarity.map(clarity_map)"
   ]
  },
  {
   "cell_type": "code",
   "execution_count": 170,
   "metadata": {},
   "outputs": [
    {
     "data": {
      "text/html": [
       "<div>\n",
       "<style scoped>\n",
       "    .dataframe tbody tr th:only-of-type {\n",
       "        vertical-align: middle;\n",
       "    }\n",
       "\n",
       "    .dataframe tbody tr th {\n",
       "        vertical-align: top;\n",
       "    }\n",
       "\n",
       "    .dataframe thead th {\n",
       "        text-align: right;\n",
       "    }\n",
       "</style>\n",
       "<table border=\"1\" class=\"dataframe\">\n",
       "  <thead>\n",
       "    <tr style=\"text-align: right;\">\n",
       "      <th></th>\n",
       "      <th>carat</th>\n",
       "      <th>cut</th>\n",
       "      <th>color</th>\n",
       "      <th>clarity</th>\n",
       "      <th>depth</th>\n",
       "      <th>table</th>\n",
       "      <th>price</th>\n",
       "      <th>x</th>\n",
       "      <th>y</th>\n",
       "      <th>z</th>\n",
       "      <th>volume</th>\n",
       "    </tr>\n",
       "  </thead>\n",
       "  <tbody>\n",
       "    <tr>\n",
       "      <th>0</th>\n",
       "      <td>0.23</td>\n",
       "      <td>5</td>\n",
       "      <td>6</td>\n",
       "      <td>2</td>\n",
       "      <td>61.5</td>\n",
       "      <td>55.0</td>\n",
       "      <td>326</td>\n",
       "      <td>3.95</td>\n",
       "      <td>3.98</td>\n",
       "      <td>2.43</td>\n",
       "      <td>38.202030</td>\n",
       "    </tr>\n",
       "    <tr>\n",
       "      <th>1</th>\n",
       "      <td>0.21</td>\n",
       "      <td>4</td>\n",
       "      <td>6</td>\n",
       "      <td>3</td>\n",
       "      <td>59.8</td>\n",
       "      <td>61.0</td>\n",
       "      <td>326</td>\n",
       "      <td>3.89</td>\n",
       "      <td>3.84</td>\n",
       "      <td>2.31</td>\n",
       "      <td>34.505856</td>\n",
       "    </tr>\n",
       "    <tr>\n",
       "      <th>2</th>\n",
       "      <td>0.23</td>\n",
       "      <td>2</td>\n",
       "      <td>6</td>\n",
       "      <td>5</td>\n",
       "      <td>56.9</td>\n",
       "      <td>65.0</td>\n",
       "      <td>327</td>\n",
       "      <td>4.05</td>\n",
       "      <td>4.07</td>\n",
       "      <td>2.31</td>\n",
       "      <td>38.076885</td>\n",
       "    </tr>\n",
       "    <tr>\n",
       "      <th>3</th>\n",
       "      <td>0.29</td>\n",
       "      <td>4</td>\n",
       "      <td>2</td>\n",
       "      <td>4</td>\n",
       "      <td>62.4</td>\n",
       "      <td>58.0</td>\n",
       "      <td>334</td>\n",
       "      <td>4.20</td>\n",
       "      <td>4.23</td>\n",
       "      <td>2.63</td>\n",
       "      <td>46.724580</td>\n",
       "    </tr>\n",
       "    <tr>\n",
       "      <th>4</th>\n",
       "      <td>0.31</td>\n",
       "      <td>2</td>\n",
       "      <td>1</td>\n",
       "      <td>2</td>\n",
       "      <td>63.3</td>\n",
       "      <td>58.0</td>\n",
       "      <td>335</td>\n",
       "      <td>4.34</td>\n",
       "      <td>4.35</td>\n",
       "      <td>2.75</td>\n",
       "      <td>51.917250</td>\n",
       "    </tr>\n",
       "  </tbody>\n",
       "</table>\n",
       "</div>"
      ],
      "text/plain": [
       "   carat  cut  color  clarity  depth  table  price     x     y     z  \\\n",
       "0   0.23    5      6        2   61.5   55.0    326  3.95  3.98  2.43   \n",
       "1   0.21    4      6        3   59.8   61.0    326  3.89  3.84  2.31   \n",
       "2   0.23    2      6        5   56.9   65.0    327  4.05  4.07  2.31   \n",
       "3   0.29    4      2        4   62.4   58.0    334  4.20  4.23  2.63   \n",
       "4   0.31    2      1        2   63.3   58.0    335  4.34  4.35  2.75   \n",
       "\n",
       "      volume  \n",
       "0  38.202030  \n",
       "1  34.505856  \n",
       "2  38.076885  \n",
       "3  46.724580  \n",
       "4  51.917250  "
      ]
     },
     "execution_count": 170,
     "metadata": {},
     "output_type": "execute_result"
    }
   ],
   "source": [
    "diamonds['volume'] = diamonds.x*diamonds.y*diamonds.z\n",
    "diamonds.head()"
   ]
  },
  {
   "cell_type": "markdown",
   "metadata": {
    "problem": 4
   },
   "source": [
    "---\n",
    "\n",
    "## Problem 4 (6 pts)\n",
    "\n",
    "For each of the features `carat`, `cut`, `color`, `clarity`, and `volume`, use `LinearRegression` in `sklearn.linear_model` to train a model that predicts `price` given the specified feature. (That is, perform five different single linear regressions, where `price` is always the output variable, and the input feature is one of `carat`, `cut`, `color`, `clarity`, or `volume`.) In each case, print the name of the predictor variable, followed by the regression slope and $r^2$ for that variable. Be sure to print your results with informative labels and using numbers rounded to two decimal places.\n",
    "\n",
    "*Hint: a \"for\" loop will make your howework easier here.*\n",
    "\n",
    "---"
   ]
  },
  {
   "cell_type": "code",
   "execution_count": 171,
   "metadata": {},
   "outputs": [],
   "source": [
    "from sklearn.metrics import r2_score"
   ]
  },
  {
   "cell_type": "code",
   "execution_count": 172,
   "metadata": {},
   "outputs": [
    {
     "name": "stdout",
     "output_type": "stream",
     "text": [
      "carat\n",
      "Estimated regression slope:  7756.43\n",
      "Estimated coefficient of determination:  0.85\n",
      "cut\n",
      "Estimated regression slope:  -191.11\n",
      "Estimated coefficient of determination:  0.0\n",
      "color\n",
      "Estimated regression slope:  -404.57\n",
      "Estimated coefficient of determination:  0.03\n",
      "clarity\n",
      "Estimated regression slope:  -355.56\n",
      "Estimated coefficient of determination:  0.02\n",
      "volume\n",
      "Estimated regression slope:  46.01\n",
      "Estimated coefficient of determination:  0.81\n"
     ]
    }
   ],
   "source": [
    "lst = ['carat', 'cut', 'color', 'clarity', 'volume']\n",
    "\n",
    "for i in lst:\n",
    "    linear_model = LinearRegression()\n",
    "    linear_model.fit(numpy.asarray(diamonds[i]).reshape(-1,1), diamonds.price) \n",
    "    y_predict = linear_model.predict(numpy.asarray(diamonds[i]).reshape(-1,1))\n",
    "    score = r2_score(diamonds.price,y_predict)\n",
    "    print(i)\n",
    "    \n",
    "    coef = linear_model.coef_[0]\n",
    "    print('Estimated regression slope: ', numpy.round(coef, 2))\n",
    "    print('Estimated coefficient of determination: ', round(score,2))\n",
    "    "
   ]
  },
  {
   "cell_type": "markdown",
   "metadata": {
    "problem": 5
   },
   "source": [
    "---\n",
    "\n",
    "## Problem 5 (3 pts)\n",
    "\n",
    "For each of the models you trained in problem 4, interpret the resulting regression slope (i.e. what does this coefficient imply about how changes in the variable relate to changes in price?). \n",
    "\n",
    "\n",
    "\n",
    "---"
   ]
  },
  {
   "cell_type": "markdown",
   "metadata": {},
   "source": [
    "The regression slope quantifies the predicted change in price of the diamond per unit of increase in one of the parameters of the diamond."
   ]
  },
  {
   "cell_type": "markdown",
   "metadata": {
    "problem": 6
   },
   "source": [
    "---\n",
    "\n",
    "## Problem 6 (8 pts)\n",
    "\n",
    "Train a multivariable linear regression model that uses four of the five inputs jointly to predict diamond price. Print the coefficients for each predictor and the $r^2$ score of the model.\n",
    "\n",
    "Explain how you decided which of the potential predictor variables to exclude.\n",
    "\n",
    "---"
   ]
  },
  {
   "cell_type": "code",
   "execution_count": 173,
   "metadata": {},
   "outputs": [
    {
     "data": {
      "text/plain": [
       "LinearRegression(copy_X=True, fit_intercept=True, n_jobs=1, normalize=False)"
      ]
     },
     "execution_count": 173,
     "metadata": {},
     "output_type": "execute_result"
    }
   ],
   "source": [
    "multi_reg = LinearRegression()\n",
    "multi_reg.fit(diamonds[['carat','color','clarity','volume']], diamonds.price)"
   ]
  },
  {
   "cell_type": "code",
   "execution_count": 174,
   "metadata": {},
   "outputs": [],
   "source": [
    "lst.remove('cut')"
   ]
  },
  {
   "cell_type": "code",
   "execution_count": 175,
   "metadata": {},
   "outputs": [
    {
     "name": "stdout",
     "output_type": "stream",
     "text": [
      "Regression Coefficient of carat :  8435.06\n",
      "Regression Coefficient of color :  319.82\n",
      "Regression Coefficient of clarity :  541.56\n",
      "Regression Coefficient of volume :  1.98\n",
      "Coefficient of Multiple Determination:  0.9\n"
     ]
    }
   ],
   "source": [
    "for i in range(0, len(lst)):\n",
    "    print('Regression Coefficient of', lst[i],': ',round(multi_reg.coef_[i],2))\n",
    "    \n",
    "price_predict = multi_reg.predict(diamonds[['carat','color','clarity','volume']])\n",
    "multi_score = r2_score(diamonds.price, price_predict)\n",
    "print('Coefficient of Multiple Determination: ', round(multi_score,2))\n",
    "    "
   ]
  },
  {
   "cell_type": "markdown",
   "metadata": {},
   "source": [
    "The cut was removed as a predictor as it had the weakest coefficient of determination when it was individually evaluated for predicting price."
   ]
  },
  {
   "cell_type": "markdown",
   "metadata": {
    "problem": 7
   },
   "source": [
    "---\n",
    "\n",
    "## Problem 7 (4 pts)\n",
    "\n",
    "Compare the regression slopes from the four single linear regressions performed in problem 4 to the regression slopes from the multivariable regression performed in problem 6. What has changed between the regressions in the two problems? Do you find any of these changes surprising?\n",
    "\n",
    "Compare the $r^2$ values from problems 4 and 6. Based on these results, which model do you believe predicts diamond price most accurately? \n",
    "\n",
    "---"
   ]
  },
  {
   "cell_type": "markdown",
   "metadata": {},
   "source": [
    "The regression coefficients are all positive, unlike those in problem 4 in which some were negative. It is suprising to see the change in sign of regression coefficients as it intially seems counterintuitive and contrary to how the problem presented itself when looking at the relations of the individual independent variables with price. The $r^2$ value in the multivariate case is greater than those found in any of the simple linear regressions and therefore predicts diamond price more accurately."
   ]
  },
  {
   "cell_type": "markdown",
   "metadata": {
    "problem": 8
   },
   "source": [
    "---\n",
    "\n",
    "## Problem 8 (2 pts)\n",
    "\n",
    "Let's explore another dataset. Load `Fish.csv` using `pandas` into a variable called `fish`. Identify the species whose individuals are lightest on average. You may find it helpful to refer to the [data description](https://www.kaggle.com/aungpyaeap/fish-market).\n",
    "\n",
    "---"
   ]
  },
  {
   "cell_type": "code",
   "execution_count": 176,
   "metadata": {},
   "outputs": [
    {
     "data": {
      "text/plain": [
       "Species\n",
       "Bream        617.828571\n",
       "Parkki       154.818182\n",
       "Perch        382.239286\n",
       "Pike         718.705882\n",
       "Roach        152.050000\n",
       "Smelt         11.178571\n",
       "Whitefish    531.000000\n",
       "Name: Weight, dtype: float64"
      ]
     },
     "execution_count": 176,
     "metadata": {},
     "output_type": "execute_result"
    }
   ],
   "source": [
    "fish = pd.read_csv('hw6/Fish.csv')\n",
    "fish.groupby(['Species']).Weight.mean()"
   ]
  },
  {
   "cell_type": "markdown",
   "metadata": {},
   "source": [
    "On average, the smelt is the lightest."
   ]
  },
  {
   "cell_type": "markdown",
   "metadata": {
    "problem": 9
   },
   "source": [
    "---\n",
    "\n",
    "## Problem 9 (10 pts)\n",
    "\n",
    "Find which four species have the most observations in the dataset. Update `fish`, keeping only observations from these four species.\n",
    "\n",
    "Using the data in the updated `fish` data frame, make three scatterplots to examine the relationships between\n",
    "\n",
    "1. `Height` and `Width`,\n",
    "2. `Height` and `Weight`,\n",
    "3. `Width` and `Weight`,\n",
    "\n",
    "where the species of each observation is indicated by point color.\n",
    "\n",
    "Discuss whether a linear regression is a suitable model for the relationship between each pair of variables.\n",
    "\n",
    "Describe the patterns you observe in each scatterplot. *(This is an open-ended question, but we expect you to make at least two informative and distinct points per scatterplot.)*\n",
    "\n",
    "---"
   ]
  },
  {
   "cell_type": "code",
   "execution_count": 177,
   "metadata": {},
   "outputs": [
    {
     "data": {
      "text/plain": [
       "0    Perch\n",
       "1    Bream\n",
       "2    Roach\n",
       "3     Pike\n",
       "dtype: object"
      ]
     },
     "execution_count": 177,
     "metadata": {},
     "output_type": "execute_result"
    }
   ],
   "source": [
    "observation_count = fish['Species'].value_counts().rank()\n",
    "top_four = pd.Series(observation_count[observation_count >= 4].index)\n",
    "top_four"
   ]
  },
  {
   "cell_type": "code",
   "execution_count": 178,
   "metadata": {},
   "outputs": [],
   "source": [
    "fish  = fish[(fish.Species == top_four[0]) | (fish.Species == top_four[1]) | (fish.Species == top_four[2]) | (fish.Species == top_four[3])]"
   ]
  },
  {
   "cell_type": "code",
   "execution_count": 179,
   "metadata": {},
   "outputs": [
    {
     "data": {
      "text/plain": [
       "Text(0,0.5,'Width (cm)')"
      ]
     },
     "execution_count": 179,
     "metadata": {},
     "output_type": "execute_result"
    },
    {
     "data": {
      "image/png": "[encoded data removed]",
      "text/plain": [
       "<Figure size 432x288 with 1 Axes>"
      ]
     },
     "metadata": {},
     "output_type": "display_data"
    }
   ],
   "source": [
    "species = fish.groupby('Species')\n",
    "for i,j in species:\n",
    "    plt.scatter(j.Height, j.Width, label = i)\n",
    "plt.legend()\n",
    "plt.xlabel('Height (cm)')\n",
    "plt.ylabel('Width (cm)')"
   ]
  },
  {
   "cell_type": "markdown",
   "metadata": {},
   "source": [
    "A linear regression is not a suitable model here. All but the bream fish follow a similar, linear trend. The bream has a somewhat linear pattern but is offset with a larger height for the respective values of width compared the other fish."
   ]
  },
  {
   "cell_type": "code",
   "execution_count": 180,
   "metadata": {},
   "outputs": [
    {
     "data": {
      "text/plain": [
       "Text(0,0.5,'Weight (g)')"
      ]
     },
     "execution_count": 180,
     "metadata": {},
     "output_type": "execute_result"
    },
    {
     "data": {
      "image/png": "[encoded data removed]",
      "text/plain": [
       "<Figure size 432x288 with 1 Axes>"
      ]
     },
     "metadata": {},
     "output_type": "display_data"
    }
   ],
   "source": [
    "for i,j in species:\n",
    "    plt.scatter(j.Height, j.Weight, label = i)\n",
    "plt.legend()\n",
    "plt.xlabel('Height (cm)')\n",
    "plt.ylabel('Weight (g)')\n"
   ]
  },
  {
   "cell_type": "markdown",
   "metadata": {},
   "source": [
    "A linear regressional model will not work here. The trend in the roach relatively coincides with the trend of the perch. These two have very different trends compared to the bream and roach, which also have very different slopes and behave aprroximately linearly, unlike the perch."
   ]
  },
  {
   "cell_type": "code",
   "execution_count": 181,
   "metadata": {},
   "outputs": [
    {
     "data": {
      "text/plain": [
       "Text(0,0.5,'Weight (g)')"
      ]
     },
     "execution_count": 181,
     "metadata": {},
     "output_type": "execute_result"
    },
    {
     "data": {
      "image/png": "[encoded data removed]",
      "text/plain": [
       "<Figure size 432x288 with 1 Axes>"
      ]
     },
     "metadata": {},
     "output_type": "display_data"
    }
   ],
   "source": [
    "for i,j in species:\n",
    "    plt.scatter(j.Width, j.Weight, label = i)\n",
    "plt.legend()\n",
    "plt.xlabel('Width (cm)')\n",
    "plt.ylabel('Weight (g)')"
   ]
  },
  {
   "cell_type": "markdown",
   "metadata": {},
   "source": [
    "A linear regression model will not work here. All of the species follow a similar trend in which the rate of growth in weight increases with the change in width. The pike shows a somewhat faster growth towards the high end in width whereas the perch slows down."
   ]
  },
  {
   "cell_type": "markdown",
   "metadata": {
    "problem": 10
   },
   "source": [
    "---\n",
    "\n",
    "## Problem 10 (6 pts)\n",
    "\n",
    "Make a three-dimensional scatterplot to demonstrate the relationship between `Height` (x-axis), `Width` (y-axis) and `Weight` (z-axis) in one graph (again for the updated `fish` data frame). Color each point by species. Label the axes and color legend with the appropriate variable name.\n",
    "\n",
    "Do you prefer the individual 2D scatterplots or the all-encompassing 3D graph? Why? *(Open-ended question!)*\n",
    "\n",
    "*(Hint: Here is a [tutorial](https://pythonprogramming.net/3d-scatter-plot-customizing/) on 3D scatterplots. You don't have to use this specific method for 3D plotting.)*\n",
    "\n",
    "---"
   ]
  },
  {
   "cell_type": "code",
   "execution_count": 182,
   "metadata": {},
   "outputs": [],
   "source": [
    "from mpl_toolkits.mplot3d import Axes3D"
   ]
  },
  {
   "cell_type": "code",
   "execution_count": 183,
   "metadata": {},
   "outputs": [
    {
     "data": {
      "text/plain": [
       "Text(0.5,0,'Weight (g)')"
      ]
     },
     "execution_count": 183,
     "metadata": {},
     "output_type": "execute_result"
    },
    {
     "data": {
      "image/png": "[encoded data removed]",
      "text/plain": [
       "<Figure size 432x288 with 1 Axes>"
      ]
     },
     "metadata": {},
     "output_type": "display_data"
    }
   ],
   "source": [
    "fig = plt.figure()\n",
    "ax = fig.add_subplot(111, projection='3d')\n",
    "\n",
    "for i,j in species:\n",
    "    ax.scatter(j.Height, j.Width, j.Weight, label = i)\n",
    "ax.legend()\n",
    "ax.set_xlabel('Height (cm)')\n",
    "ax.set_ylabel('Width (cm)')\n",
    "ax.set_zlabel('Weight (g)')"
   ]
  },
  {
   "cell_type": "markdown",
   "metadata": {},
   "source": [
    "I like the 3d graph for allowing the viewer to simultaneously observe the relationship between any two variables as well as see how multiple variables together have influence on a dependent variable."
   ]
  },
  {
   "cell_type": "code",
   "execution_count": null,
   "metadata": {},
   "outputs": [],
   "source": []
  }
 ],
 "metadata": {
  "kernelspec": {
   "display_name": "Python 3 (ipykernel)",
   "language": "python",
   "name": "python3"
  },
  "language_info": {
   "codemirror_mode": {
    "name": "ipython",
    "version": 3
   },
   "file_extension": ".py",
   "mimetype": "text/x-python",
   "name": "python",
   "nbconvert_exporter": "python",
   "pygments_lexer": "ipython3",
   "version": "3.9.7"
  }
 },
 "nbformat": 4,
 "nbformat_minor": 4
}
